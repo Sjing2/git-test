{
  "nbformat": 4,
  "nbformat_minor": 0,
  "metadata": {
    "colab": {
      "name": "20200717 문서요약 Textrank.ipynb",
      "provenance": [],
      "collapsed_sections": [],
      "authorship_tag": "ABX9TyMNC1wKxF1zBLGXYju4tGXz",
      "include_colab_link": true
    },
    "kernelspec": {
      "name": "python3",
      "display_name": "Python 3"
    }
  },
  "cells": [
    {
      "cell_type": "markdown",
      "metadata": {
        "id": "view-in-github",
        "colab_type": "text"
      },
      "source": [
        "<a href=\"https://colab.research.google.com/github/Sjing2/git-test/blob/master/sojeong_20200717_%EB%AC%B8%EC%84%9C%EC%9A%94%EC%95%BD_Textrank.ipynb\" target=\"_parent\"><img src=\"https://colab.research.google.com/assets/colab-badge.svg\" alt=\"Open In Colab\"/></a>"
      ]
    },
    {
      "cell_type": "code",
      "metadata": {
        "id": "A_8SblYoprwH",
        "colab_type": "code",
        "colab": {}
      },
      "source": [
        "nodes = \"딸기 바나나 사과 파인애플 수박. 바나나 사과 딸기 포도. 복숭아 수박. 파인애플 사과 딸기 바나나.\""
      ],
      "execution_count": 25,
      "outputs": []
    },
    {
      "cell_type": "code",
      "metadata": {
        "id": "6Xc1dPNFrr1t",
        "colab_type": "code",
        "colab": {
          "base_uri": "https://localhost:8080/",
          "height": 52
        },
        "outputId": "721bc0ae-0e0c-49c7-ae1d-6fce6085a6c9"
      },
      "source": [
        "import nltk\n",
        "nltk.download('punkt')\n",
        "from nltk.tokenize import sent_tokenize, word_tokenize\n",
        "import numpy as np\n",
        "import math\n",
        "import networkx as nx\n",
        "# d1 = [d.split(\".\")]\n",
        "# d1"
      ],
      "execution_count": 26,
      "outputs": [
        {
          "output_type": "stream",
          "text": [
            "[nltk_data] Downloading package punkt to /root/nltk_data...\n",
            "[nltk_data]   Package punkt is already up-to-date!\n"
          ],
          "name": "stdout"
        }
      ]
    },
    {
      "cell_type": "code",
      "metadata": {
        "id": "i6N0LJn7urgw",
        "colab_type": "code",
        "colab": {
          "base_uri": "https://localhost:8080/",
          "height": 34
        },
        "outputId": "735e32c3-877b-40ed-ac36-4c3d61d00692"
      },
      "source": [
        "tokens = sent_tokenize(nodes)\n",
        "tokens"
      ],
      "execution_count": 27,
      "outputs": [
        {
          "output_type": "execute_result",
          "data": {
            "text/plain": [
              "['딸기 바나나 사과 파인애플 수박.', '바나나 사과 딸기 포도.', '복숭아 수박.', '파인애플 사과 딸기 바나나.']"
            ]
          },
          "metadata": {
            "tags": []
          },
          "execution_count": 27
        }
      ]
    },
    {
      "cell_type": "code",
      "metadata": {
        "id": "rOd8tPh2rr6W",
        "colab_type": "code",
        "colab": {}
      },
      "source": [
        "def connect(nodes, tokens) :            \n",
        "    window_size = 2 # coocurrence를 판단하기 위한 window 사이즈 설정\n",
        "\n",
        "    edges = []\n",
        "    for window_start in range(0,(len(tokens)-window_size+1)):\n",
        "        window = tokens[window_start:window_start+window_size]\n",
        "        for i in range(window_size) :\n",
        "            for j in range(i+1, window_size) : \n",
        "                if (window[i] in nodes) & (window[j] in nodes) : #윈도 내 단어가 노드에 속하는 경우만 엣지로 연결\n",
        "                    edges.append((window[i], window[j]))\n",
        "    return edges\n",
        "\n",
        "graph=nx.diamond_graph()\n",
        "graph.clear() \n",
        "graph.add_nodes_from(list(set(nodes))) #node 등록\n",
        "graph.add_edges_from(connect(nodes, tokens)) #edge 연결    "
      ],
      "execution_count": 28,
      "outputs": []
    },
    {
      "cell_type": "code",
      "metadata": {
        "id": "bJlJTwI3rsA6",
        "colab_type": "code",
        "colab": {
          "base_uri": "https://localhost:8080/",
          "height": 105
        },
        "outputId": "06e12e5f-999a-4a35-af9d-3d885159e364"
      },
      "source": [
        "scores = nx.pagerank(graph) #pagerank 계산\n",
        "rank = sorted(scores.items(), key=lambda x: x[1], reverse=True) #score 역순 정렬\n",
        "print(\"=== 핵심문장키워드 ===\")\n",
        "rank[:4]"
      ],
      "execution_count": 31,
      "outputs": [
        {
          "output_type": "stream",
          "text": [
            "=== 핵심문장키워드 ===\n"
          ],
          "name": "stdout"
        },
        {
          "output_type": "execute_result",
          "data": {
            "text/plain": [
              "[('바나나 사과 딸기 포도.', 0.1895178251747502),\n",
              " ('복숭아 수박.', 0.1895178251747502),\n",
              " ('딸기 바나나 사과 파인애플 수박.', 0.10244269200706907),\n",
              " ('파인애플 사과 딸기 바나나.', 0.10244269200706907)]"
            ]
          },
          "metadata": {
            "tags": []
          },
          "execution_count": 31
        }
      ]
    },
    {
      "cell_type": "code",
      "metadata": {
        "id": "bjMMA6__rsPf",
        "colab_type": "code",
        "colab": {}
      },
      "source": [
        "def cosine_similarity(x, y):\n",
        "    # x와 y, 두 벡터의 코사인 유사도를 계산하는 함수\n",
        "    nominator = np.dot(x, y)    # 분자\n",
        "    denominator = np.linalg.norm(x)*np.linalg.norm(y)  # 분모\n",
        "    return nominator/denominator"
      ],
      "execution_count": 32,
      "outputs": []
    },
    {
      "cell_type": "code",
      "metadata": {
        "id": "MuOrh5_crsUh",
        "colab_type": "code",
        "colab": {}
      },
      "source": [
        "# 사과와 바나나의 코사인 유사도\n",
        "print(cosine_similarity(word_embedding_dic['사과'], word_embedding_dic['바나나']))\n",
        "print(euclidean_dist(word_embedding_dic['사과'], word_embedding_dic['바나나']))"
      ],
      "execution_count": null,
      "outputs": []
    },
    {
      "cell_type": "code",
      "metadata": {
        "id": "1R25IfH9rsSq",
        "colab_type": "code",
        "colab": {}
      },
      "source": [
        ""
      ],
      "execution_count": null,
      "outputs": []
    },
    {
      "cell_type": "code",
      "metadata": {
        "id": "Ck5LAwqYrsM4",
        "colab_type": "code",
        "colab": {}
      },
      "source": [
        ""
      ],
      "execution_count": null,
      "outputs": []
    },
    {
      "cell_type": "code",
      "metadata": {
        "id": "ZD4uBMfnrsKV",
        "colab_type": "code",
        "colab": {}
      },
      "source": [
        ""
      ],
      "execution_count": null,
      "outputs": []
    },
    {
      "cell_type": "code",
      "metadata": {
        "id": "WrvCPI68rsIY",
        "colab_type": "code",
        "colab": {}
      },
      "source": [
        ""
      ],
      "execution_count": null,
      "outputs": []
    },
    {
      "cell_type": "code",
      "metadata": {
        "id": "ydl2i0mArsFl",
        "colab_type": "code",
        "colab": {}
      },
      "source": [
        ""
      ],
      "execution_count": null,
      "outputs": []
    },
    {
      "cell_type": "code",
      "metadata": {
        "id": "VcL5_J6rrsEX",
        "colab_type": "code",
        "colab": {}
      },
      "source": [
        ""
      ],
      "execution_count": null,
      "outputs": []
    },
    {
      "cell_type": "code",
      "metadata": {
        "id": "o7c9HXJIrr_p",
        "colab_type": "code",
        "colab": {}
      },
      "source": [
        ""
      ],
      "execution_count": null,
      "outputs": []
    },
    {
      "cell_type": "code",
      "metadata": {
        "id": "toUojUr-rr9j",
        "colab_type": "code",
        "colab": {}
      },
      "source": [
        ""
      ],
      "execution_count": null,
      "outputs": []
    },
    {
      "cell_type": "code",
      "metadata": {
        "id": "hs4L1Uhurr4S",
        "colab_type": "code",
        "colab": {}
      },
      "source": [
        ""
      ],
      "execution_count": null,
      "outputs": []
    }
  ]
}